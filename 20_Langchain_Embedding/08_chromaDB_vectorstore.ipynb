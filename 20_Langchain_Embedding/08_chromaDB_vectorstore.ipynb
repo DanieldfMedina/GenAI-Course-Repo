{
 "cells": [
  {
   "cell_type": "markdown",
   "metadata": {},
   "source": [
    "# chroma DB\n",
    "\n",
    "* chroma is an AI-native open-source vector database focused on developer productivity and happiness. chroma is licenced under Apache 2.0\n"
   ]
  },
  {
   "cell_type": "markdown",
   "metadata": {},
   "source": [
    "### 01. building a sample vectorDB"
   ]
  },
  {
   "cell_type": "code",
   "execution_count": 1,
   "metadata": {},
   "outputs": [],
   "source": [
    "\"\"\"\n",
    "1. TextLoader: Loads your text documents.\n",
    "2. FAISS: Vector store used for similarity search.\n",
    "3. OllamaEmbeddings: Generates vector embeddings using the llama-2.1b model.\n",
    "4 CharacterTextSplitter: Splits long text documents into smaller chunks.\n",
    "\"\"\"\n",
    "\n",
    "from langchain_chroma import Chroma #langchain_chroma-0.2.2\n",
    "from langchain_community.document_loaders import TextLoader\n",
    "from langchain_community.vectorstores import FAISS\n",
    "from langchain_community.embeddings import OllamaEmbeddings\n",
    "from langchain_text_splitters import CharacterTextSplitter\n",
    "from langchain_text_splitters import RecursiveCharacterTextSplitter"
   ]
  },
  {
   "cell_type": "markdown",
   "metadata": {},
   "source": [
    "### 2. load and split documents\n",
    "\n",
    "* We load a text file (speech.txt) and then splitting it into smaller chunks using the CharacterTextSplitter."
   ]
  },
  {
   "cell_type": "code",
   "execution_count": 4,
   "metadata": {},
   "outputs": [
    {
     "data": {
      "text/plain": [
       "[Document(metadata={'source': 'speech.txt'}, page_content=\"or the process of speaking to a group of people, see Public speaking. For other uses, see Speech (disambiguation).\\nDuration: 15 seconds.0:15Subtitles available.CC\\nSpeech production visualized by real-time MRI\\nPart of a series on\\nLinguistics\\nOutlineHistoryIndex\\nGeneral linguistics\\nApplied linguistics\\nTheoretical frameworks\\nTopics\\n Portal\\nvte\\nSpeech is the use of the human voice as a medium for language. Spoken language combines vowel and consonant sounds to form units of meaning like words, which belong to a language's lexicon. There are many different intentional speech acts, such as informing, declaring, asking, persuading, directing; acts may vary in various aspects like enunciation, intonation, loudness, and tempo to convey meaning. Individuals may also unintentionally communicate aspects of their social position through speech, such as sex, age, place of origin, physiological and mental condition, education, and experiences.\\n\\nWhile normally used to facilitate communication with others, people may also use speech without the intent to communicate. Speech may nevertheless express emotions or desires; people talk to themselves sometimes in acts that are a development of what some psychologists (e.g., Lev Vygotsky) have maintained is the use of silent speech in an interior monologue to vivify and organize cognition, sometimes in the momentary adoption of a dual persona as self addressing self as though addressing another person. Solo speech can be used to memorize or to test one's memorization of things, and in prayer or in meditation.\\n\\nResearchers study many different aspects of speech: speech production and speech perception of the sounds used in a language, speech repetition, speech errors, the ability to map heard spoken words onto the vocalizations needed to recreate them, which plays a key role in children's enlargement of their vocabulary, and what different areas of the human brain, such as Broca's area and Wernicke's area, underlie speech. Speech is the subject of study for linguistics, cognitive science, communication studies, psychology, computer science, speech pathology, otolaryngology, and acoustics. Speech compares with written language,[1] which may differ in its vocabulary, syntax, and phonetics from the spoken language, a situation called diglossia.\\n\\nThe evolutionary origin of speech is subject to debate and speculation. \\nWhile animals also communicate using vocalizations, \\nand trained apes such as Washoe and Kanzi can use simple sign language, no animals' \\nvocalizations are articulated phonemically and syntactically, and do not constitute speech.\\n\\nAnthony Ekle is a PhD candidate in Computer Science at Tennessee Tech University,\\n specializing in graph-based machine learning, anomaly detection in dynamic graphs, \\n and real-world AI applications. With over two years of research experience, Anthony has published in top venues, including IEEE, ACM TKDD, and AAAI. His work includes developing Adaptive DecayRank, an anomaly detection model leveraging Bayesian PageRank updates, and contributions to graph neural networks (GNNs) for coordinated sensor attack detection in autonomous vehicles. He has hands-on expertise in NLP, generative AI, and cyber risk evaluation, demonstrated through various research projects and industry collaborations. Anthony has interned as a research scientist, applying advanced AI techniques to real-world problems. He is proficient in Python, PyTorch, TensorFlow, C++, and has worked extensively with algorithms for large-scale data processing. In addition to research, he is an experienced teaching assistant for AI courses, mentoring students in machine learning and deep learning. His leadership roles include serving as the President of the African Student Union and the Graduate Student Club, where he organizes events and fosters academic growth. Anthony has received the Best Paper Award in the PhD category from the College of Engineering at Tennessee Tech. His career aspirations include working as an AI Research Scientist in top industry labs, contributing to real-world AI advancements\\n\\n\\n\\n Great question! Maintaining proper table etiquette at formal or semi-formal events like weddings can make a strong, positive impression. Here are some key points to keep in mind:\\n\\n🍽 Basic Table Etiquette to Maintain at Events:\\n1. Handling Food & Eating:\\nUse Cutlery Properly: Always use the fork and knife as intended. Cut your food into bite-sized pieces instead of stuffing large pieces into your mouth.\\n\\nDon’t Chew with Your Mouth Open: Always chew with your mouth closed to avoid making unnecessary sounds.\\n\\nAvoid Eating with Your Hands: Unless it's a finger food event or explicitly allowed (like BBQ or African dishes meant to be eaten by hand), always use cutlery.\\n\\nDon’t Lick Fingers or Pick Teeth: Use napkins to clean your fingers and a toothpick discreetly if necessary (preferably after leaving the table).\\n\\nFinish Chewing Before Speaking: It shows respect and makes conversation more pleasant for everyone.\\n\\n2. Handling Drinks:\\nHold Glasses Properly: Wine glasses should be held by the stem, not the bowl.\\n\\nAvoid Slurping: Sip drinks quietly.\\n\\nPace Yourself: Don’t drink too fast, especially if alcohol is being served.\\n\\n3. Table Interaction:\\nWait for Everyone Before Starting: In formal settings, it’s polite to wait until everyone has been served before you start eating.\\n\\nEngage in Polite Conversation: Keep topics friendly, light, and positive.\\n\\nAvoid Using Your Phone: Unless it's absolutely necessary, keep your phone away to show respect to those around you.\\n\\n4. Serving Etiquette:\\nPassing Dishes: Always pass dishes to your right.\\n\\nDon’t Reach Over Others: Politely ask for dishes to be passed to you.\\n\\nServing Yourself: Take reasonable portions, especially when it’s a buffet or shared meal.\\n\\n5. Handling Bones (Like Chicken Bones):\\nDon’t Chew Bones at Formal Events: As funny as your friend’s situation was, it's considered bad etiquette to gnaw on bones. If you accidentally get a bone in your food, discreetly remove it with your fork and place it on the side of your plate.\\n\\nAvoid Sucking or Crunching Bones: Save that for more casual settings where it’s culturally acceptable.\\n\\n6. Finishing Your Meal:\\nPlace Cutlery Properly: When you’re done eating, place your knife and fork diagonally across your plate (fork tines down, knife blade inward) to signal you’re finished.\\n\\nThanking the Host: Always thank the host for the meal and the invitation before leaving.\\n\\nYou’re already socially intelligent, so you probably follow most of these without even thinking about it. 😄 It’s good you tried to correct your friend in a playful way, though.\\n\\nWould you like me to show you how to handle those situations more smoothly when your friends act out of etiquette in public events? 😊 And by the way, how did your friend defend himself? \")]"
      ]
     },
     "execution_count": 4,
     "metadata": {},
     "output_type": "execute_result"
    }
   ],
   "source": [
    "#loading\n",
    "loader = TextLoader(\"speech.txt\")\n",
    "data = loader.load()\n",
    "data"
   ]
  },
  {
   "cell_type": "code",
   "execution_count": 5,
   "metadata": {},
   "outputs": [
    {
     "data": {
      "text/plain": [
       "[Document(metadata={'source': 'speech.txt'}, page_content='or the process of speaking to a group of people, see Public speaking. For other uses, see Speech (disambiguation).\\nDuration: 15 seconds.0:15Subtitles available.CC\\nSpeech production visualized by real-time MRI\\nPart of a series on\\nLinguistics\\nOutlineHistoryIndex\\nGeneral linguistics\\nApplied linguistics\\nTheoretical frameworks\\nTopics\\n Portal\\nvte'),\n",
       " Document(metadata={'source': 'speech.txt'}, page_content=\"Speech is the use of the human voice as a medium for language. Spoken language combines vowel and consonant sounds to form units of meaning like words, which belong to a language's lexicon. There are many different intentional speech acts, such as informing, declaring, asking, persuading, directing; acts may vary in various aspects like enunciation, intonation, loudness, and tempo to convey meaning. Individuals may also unintentionally communicate aspects of their social position through\"),\n",
       " Document(metadata={'source': 'speech.txt'}, page_content='speech, such as sex, age, place of origin, physiological and mental condition, education, and experiences.'),\n",
       " Document(metadata={'source': 'speech.txt'}, page_content='While normally used to facilitate communication with others, people may also use speech without the intent to communicate. Speech may nevertheless express emotions or desires; people talk to themselves sometimes in acts that are a development of what some psychologists (e.g., Lev Vygotsky) have maintained is the use of silent speech in an interior monologue to vivify and organize cognition, sometimes in the momentary adoption of a dual persona as self addressing self as though addressing'),\n",
       " Document(metadata={'source': 'speech.txt'}, page_content=\"another person. Solo speech can be used to memorize or to test one's memorization of things, and in prayer or in meditation.\"),\n",
       " Document(metadata={'source': 'speech.txt'}, page_content=\"Researchers study many different aspects of speech: speech production and speech perception of the sounds used in a language, speech repetition, speech errors, the ability to map heard spoken words onto the vocalizations needed to recreate them, which plays a key role in children's enlargement of their vocabulary, and what different areas of the human brain, such as Broca's area and Wernicke's area, underlie speech. Speech is the subject of study for linguistics, cognitive science,\"),\n",
       " Document(metadata={'source': 'speech.txt'}, page_content='communication studies, psychology, computer science, speech pathology, otolaryngology, and acoustics. Speech compares with written language,[1] which may differ in its vocabulary, syntax, and phonetics from the spoken language, a situation called diglossia.'),\n",
       " Document(metadata={'source': 'speech.txt'}, page_content=\"The evolutionary origin of speech is subject to debate and speculation. \\nWhile animals also communicate using vocalizations, \\nand trained apes such as Washoe and Kanzi can use simple sign language, no animals' \\nvocalizations are articulated phonemically and syntactically, and do not constitute speech.\"),\n",
       " Document(metadata={'source': 'speech.txt'}, page_content='Anthony Ekle is a PhD candidate in Computer Science at Tennessee Tech University,\\n specializing in graph-based machine learning, anomaly detection in dynamic graphs,'),\n",
       " Document(metadata={'source': 'speech.txt'}, page_content='and real-world AI applications. With over two years of research experience, Anthony has published in top venues, including IEEE, ACM TKDD, and AAAI. His work includes developing Adaptive DecayRank, an anomaly detection model leveraging Bayesian PageRank updates, and contributions to graph neural networks (GNNs) for coordinated sensor attack detection in autonomous vehicles. He has hands-on expertise in NLP, generative AI, and cyber risk evaluation, demonstrated through various research'),\n",
       " Document(metadata={'source': 'speech.txt'}, page_content='projects and industry collaborations. Anthony has interned as a research scientist, applying advanced AI techniques to real-world problems. He is proficient in Python, PyTorch, TensorFlow, C++, and has worked extensively with algorithms for large-scale data processing. In addition to research, he is an experienced teaching assistant for AI courses, mentoring students in machine learning and deep learning. His leadership roles include serving as the President of the African Student Union and the'),\n",
       " Document(metadata={'source': 'speech.txt'}, page_content='Graduate Student Club, where he organizes events and fosters academic growth. Anthony has received the Best Paper Award in the PhD category from the College of Engineering at Tennessee Tech. His career aspirations include working as an AI Research Scientist in top industry labs, contributing to real-world AI advancements'),\n",
       " Document(metadata={'source': 'speech.txt'}, page_content='Great question! Maintaining proper table etiquette at formal or semi-formal events like weddings can make a strong, positive impression. Here are some key points to keep in mind:\\n\\n🍽 Basic Table Etiquette to Maintain at Events:\\n1. Handling Food & Eating:\\nUse Cutlery Properly: Always use the fork and knife as intended. Cut your food into bite-sized pieces instead of stuffing large pieces into your mouth.'),\n",
       " Document(metadata={'source': 'speech.txt'}, page_content=\"Don’t Chew with Your Mouth Open: Always chew with your mouth closed to avoid making unnecessary sounds.\\n\\nAvoid Eating with Your Hands: Unless it's a finger food event or explicitly allowed (like BBQ or African dishes meant to be eaten by hand), always use cutlery.\\n\\nDon’t Lick Fingers or Pick Teeth: Use napkins to clean your fingers and a toothpick discreetly if necessary (preferably after leaving the table).\"),\n",
       " Document(metadata={'source': 'speech.txt'}, page_content='Finish Chewing Before Speaking: It shows respect and makes conversation more pleasant for everyone.\\n\\n2. Handling Drinks:\\nHold Glasses Properly: Wine glasses should be held by the stem, not the bowl.\\n\\nAvoid Slurping: Sip drinks quietly.\\n\\nPace Yourself: Don’t drink too fast, especially if alcohol is being served.\\n\\n3. Table Interaction:\\nWait for Everyone Before Starting: In formal settings, it’s polite to wait until everyone has been served before you start eating.'),\n",
       " Document(metadata={'source': 'speech.txt'}, page_content=\"Engage in Polite Conversation: Keep topics friendly, light, and positive.\\n\\nAvoid Using Your Phone: Unless it's absolutely necessary, keep your phone away to show respect to those around you.\\n\\n4. Serving Etiquette:\\nPassing Dishes: Always pass dishes to your right.\\n\\nDon’t Reach Over Others: Politely ask for dishes to be passed to you.\\n\\nServing Yourself: Take reasonable portions, especially when it’s a buffet or shared meal.\"),\n",
       " Document(metadata={'source': 'speech.txt'}, page_content=\"5. Handling Bones (Like Chicken Bones):\\nDon’t Chew Bones at Formal Events: As funny as your friend’s situation was, it's considered bad etiquette to gnaw on bones. If you accidentally get a bone in your food, discreetly remove it with your fork and place it on the side of your plate.\\n\\nAvoid Sucking or Crunching Bones: Save that for more casual settings where it’s culturally acceptable.\"),\n",
       " Document(metadata={'source': 'speech.txt'}, page_content='6. Finishing Your Meal:\\nPlace Cutlery Properly: When you’re done eating, place your knife and fork diagonally across your plate (fork tines down, knife blade inward) to signal you’re finished.\\n\\nThanking the Host: Always thank the host for the meal and the invitation before leaving.\\n\\nYou’re already socially intelligent, so you probably follow most of these without even thinking about it. 😄 It’s good you tried to correct your friend in a playful way, though.'),\n",
       " Document(metadata={'source': 'speech.txt'}, page_content='Would you like me to show you how to handle those situations more smoothly when your friends act out of etiquette in public events? 😊 And by the way, how did your friend defend himself?')]"
      ]
     },
     "execution_count": 5,
     "metadata": {},
     "output_type": "execute_result"
    }
   ],
   "source": [
    "# splitting\n",
    "text_splitter = RecursiveCharacterTextSplitter(chunk_size =500, chunk_overlap =0)\n",
    "splits = text_splitter.split_documents(data)\n",
    "splits"
   ]
  },
  {
   "cell_type": "markdown",
   "metadata": {},
   "source": [
    "### 3.  Generating Embeddings (Using OllamaEmbedding Model) and Chroma DB\n",
    "* This creates a vector representation (embedding) of the text using the llama-2.1b model."
   ]
  },
  {
   "cell_type": "code",
   "execution_count": 12,
   "metadata": {},
   "outputs": [
    {
     "data": {
      "text/plain": [
       "<langchain_chroma.vectorstores.Chroma at 0x12fbbb3d0>"
      ]
     },
     "execution_count": 12,
     "metadata": {},
     "output_type": "execute_result"
    }
   ],
   "source": [
    "embeddings = OllamaEmbeddings(\n",
    "    model=\"llama3.2:1b\"  # Or the specific model name you installed\n",
    ")\n",
    "vectordb = Chroma.from_documents(documents=splits, embedding=embeddings)\n",
    "vectordb"
   ]
  },
  {
   "cell_type": "markdown",
   "metadata": {},
   "source": [
    "### 4a. Querying the Database (Natural Language Search)\n",
    "* We performed a semantic search to find the most relevant text chunks related to your query.\n"
   ]
  },
  {
   "cell_type": "code",
   "execution_count": 14,
   "metadata": {},
   "outputs": [
    {
     "data": {
      "text/plain": [
       "'Anthony Ekle is a PhD candidate in Computer Science at Tennessee Tech University,\\n specializing in graph-based machine learning, anomaly detection in dynamic graphs,'"
      ]
     },
     "execution_count": 14,
     "metadata": {},
     "output_type": "execute_result"
    }
   ],
   "source": [
    "query = \"who is Anthony ekle\"\n",
    "docs = vectordb.similarity_search(query)\n",
    "docs[0].page_content"
   ]
  },
  {
   "cell_type": "markdown",
   "metadata": {},
   "source": [
    "### 5. How to save the vectorDB in dicks\n",
    "* Saving: The `db.save_local()` command saves your FAISS index to disk for future use.\n"
   ]
  },
  {
   "cell_type": "code",
   "execution_count": 15,
   "metadata": {},
   "outputs": [],
   "source": [
    "# saving to disk\n",
    "vectordb = Chroma.from_documents(documents=splits, embedding=embeddings, persist_directory=\"./chroma_db\")"
   ]
  },
  {
   "cell_type": "code",
   "execution_count": 16,
   "metadata": {},
   "outputs": [
    {
     "name": "stdout",
     "output_type": "stream",
     "text": [
      "Anthony Ekle is a PhD candidate in Computer Science at Tennessee Tech University,\n",
      " specializing in graph-based machine learning, anomaly detection in dynamic graphs,\n"
     ]
    }
   ],
   "source": [
    "# load from disk\n",
    "db2 = Chroma(persist_directory=\"./chroma_db\", embedding_function=embeddings)\n",
    "docs = db2.similarity_search(query)\n",
    "print(docs[0].page_content)"
   ]
  },
  {
   "cell_type": "code",
   "execution_count": 17,
   "metadata": {},
   "outputs": [
    {
     "data": {
      "text/plain": [
       "[(Document(id='2883b192-53ca-4b7b-8e3b-457674559aff', metadata={'source': 'speech.txt'}, page_content='Anthony Ekle is a PhD candidate in Computer Science at Tennessee Tech University,\\n specializing in graph-based machine learning, anomaly detection in dynamic graphs,'),\n",
       "  11694.35555801066),\n",
       " (Document(id='dbe6e64d-7c9c-4a1a-9dd4-b45888dabfd9', metadata={'source': 'speech.txt'}, page_content='While normally used to facilitate communication with others, people may also use speech without the intent to communicate. Speech may nevertheless express emotions or desires; people talk to themselves sometimes in acts that are a development of what some psychologists (e.g., Lev Vygotsky) have maintained is the use of silent speech in an interior monologue to vivify and organize cognition, sometimes in the momentary adoption of a dual persona as self addressing self as though addressing'),\n",
       "  11695.179162068562),\n",
       " (Document(id='a324831b-fcd0-45d3-90d5-28a7fe3783c6', metadata={'source': 'speech.txt'}, page_content='speech, such as sex, age, place of origin, physiological and mental condition, education, and experiences.'),\n",
       "  12204.60670926087),\n",
       " (Document(id='08e6ae00-0631-48dc-8345-3ede0292df94', metadata={'source': 'speech.txt'}, page_content=\"The evolutionary origin of speech is subject to debate and speculation. \\nWhile animals also communicate using vocalizations, \\nand trained apes such as Washoe and Kanzi can use simple sign language, no animals' \\nvocalizations are articulated phonemically and syntactically, and do not constitute speech.\"),\n",
       "  12616.399558759946)]"
      ]
     },
     "execution_count": 17,
     "metadata": {},
     "output_type": "execute_result"
    }
   ],
   "source": [
    "## getting similary search score\n",
    "docs = vectordb.similarity_search_with_score(query)\n",
    "docs"
   ]
  },
  {
   "cell_type": "markdown",
   "metadata": {},
   "source": [
    "### 6. Retriever options"
   ]
  },
  {
   "cell_type": "code",
   "execution_count": 18,
   "metadata": {},
   "outputs": [
    {
     "data": {
      "text/plain": [
       "'Anthony Ekle is a PhD candidate in Computer Science at Tennessee Tech University,\\n specializing in graph-based machine learning, anomaly detection in dynamic graphs,'"
      ]
     },
     "execution_count": 18,
     "metadata": {},
     "output_type": "execute_result"
    }
   ],
   "source": [
    "retriever = vectordb.as_retriever()\n",
    "retriever.invoke(query)[0].page_content"
   ]
  },
  {
   "cell_type": "code",
   "execution_count": null,
   "metadata": {},
   "outputs": [],
   "source": []
  }
 ],
 "metadata": {
  "kernelspec": {
   "display_name": "GenAI",
   "language": "python",
   "name": "python3"
  },
  "language_info": {
   "codemirror_mode": {
    "name": "ipython",
    "version": 3
   },
   "file_extension": ".py",
   "mimetype": "text/x-python",
   "name": "python",
   "nbconvert_exporter": "python",
   "pygments_lexer": "ipython3",
   "version": "3.11.11"
  }
 },
 "nbformat": 4,
 "nbformat_minor": 2
}
